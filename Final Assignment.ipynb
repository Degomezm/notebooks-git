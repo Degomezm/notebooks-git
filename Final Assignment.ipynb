{
    "cells": [
        {
            "cell_type": "markdown",
            "metadata": {
                "collapsed": true
            },
            "source": "# My Jupiter Notebook in Watson Studio #"
        },
        {
            "cell_type": "markdown",
            "metadata": {},
            "source": "**Daniel Esteban G\u00f3mez Montoya**\n\nI'm Industrial Engineer, student of Data Science and Data Engineering. Actually I work as Capacities Development Coordinator. I love the videogames, the motorcycles and the soccer. "
        },
        {
            "cell_type": "markdown",
            "metadata": {},
            "source": "*I am interested in Data Science because I would like to work analyzing data and building algorithms and models that predict the behavior of natural events.Even the Data Science combine my interest for the Development Software, Data Analysis, Statistics and Data Engineer.*"
        },
        {
            "cell_type": "markdown",
            "metadata": {},
            "source": "### The following code convert the file permission in octal format to a string format"
        },
        {
            "cell_type": "code",
            "execution_count": 3,
            "metadata": {},
            "outputs": [
                {
                    "name": "stdout",
                    "output_type": "stream",
                    "text": "rwxr-xr-x\nrw-r--r--\nrwxr-x---\nrw-------\n"
                }
            ],
            "source": "def octal_to_string(octal):\n    result = \"\"\n    value_letters = [(4,\"r\"),(2,\"w\"),(1,\"x\")]\n    # Iterate over each of the digits in octal\n    for number in [int(n) for n in str(octal)]:\n        # Check for each of the permissions values\n        for value, letter in value_letters:\n            if number >= value:\n                result += letter\n                number -= value\n            else:\n                result += \"-\"\n    return result\n\nprint(octal_to_string(755)) # Should be rwxr-xr-x\nprint(octal_to_string(644)) # Should be rw-r--r--\nprint(octal_to_string(750)) # Should be rwxr-x---\nprint(octal_to_string(600)) # Should be rw-------"
        },
        {
            "cell_type": "markdown",
            "metadata": {},
            "source": "## Seria A Positions Seasson 21-22\n|Team|PJ|W|D|L|Pts|\n| :---: | :---: | :---: | :---: | :---: | :---: |\n|1.Milan|38|26|8|4|86|\n|2.Inter|38|25|9|4|84|\n|3.Napoli|38|24|7|7|79|\n|4.Juventus|38|20|10|8|70|\n|5.Lazio|38|18|10|10|64|\n\n![Milan](https://upload.wikimedia.org/wikipedia/commons/thumb/d/d0/Logo_of_AC_Milan.svg/361px-Logo_of_AC_Milan.svg.png)\n\nThe complete resume of the Serie A Seasson 21-22 in the next link [Serie A](https://www.espn.com.mx/futbol/posiciones/_/liga/ita.1)\n"
        },
        {
            "cell_type": "code",
            "execution_count": null,
            "metadata": {},
            "outputs": [],
            "source": ""
        }
    ],
    "metadata": {
        "kernelspec": {
            "display_name": "Python 3.9",
            "language": "python",
            "name": "python3"
        },
        "language_info": {
            "codemirror_mode": {
                "name": "ipython",
                "version": 3
            },
            "file_extension": ".py",
            "mimetype": "text/x-python",
            "name": "python",
            "nbconvert_exporter": "python",
            "pygments_lexer": "ipython3",
            "version": "3.9.7"
        }
    },
    "nbformat": 4,
    "nbformat_minor": 1
}